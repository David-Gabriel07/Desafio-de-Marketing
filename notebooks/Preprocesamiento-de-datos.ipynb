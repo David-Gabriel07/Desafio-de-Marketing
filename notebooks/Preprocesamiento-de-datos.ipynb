{
 "cells": [
  {
   "cell_type": "markdown",
   "metadata": {},
   "source": [
    "# Analisis de Datos de Marketing\n",
    "### Para el desarollo de esta tarea vamos a realizar el analisis de los datos de marketing que hemos recibido para aplicar todo lo que hemos venido aprendiendo hasta ahora en el Bootcamp"
   ]
  },
  {
   "cell_type": "markdown",
   "metadata": {},
   "source": [
    "## Fase 1: Limpieza y Preparación de Datos"
   ]
  },
  {
   "cell_type": "markdown",
   "metadata": {},
   "source": [
    "### Primero vamos a importamos las librerias necesarias y el dataset"
   ]
  },
  {
   "cell_type": "code",
   "execution_count": 1,
   "metadata": {},
   "outputs": [],
   "source": [
    "import pandas as pd\n",
    "import numpy as np\n",
    "import matplotlib.pyplot as plt\n",
    "import seaborn as sns\n",
    "import plotly.express as px"
   ]
  },
  {
   "cell_type": "code",
   "execution_count": 121,
   "metadata": {},
   "outputs": [
    {
     "name": "stderr",
     "output_type": "stream",
     "text": [
      "C:\\Users\\david.frigerio_softo\\AppData\\Local\\Temp\\ipykernel_27444\\622035376.py:2: ParserWarning: Skipping line 1003: expected 10 fields, saw 11\n",
      "Skipping line 1006: expected 10 fields, saw 12\n",
      "Skipping line 1008: expected 10 fields, saw 11\n",
      "Skipping line 1012: expected 10 fields, saw 11\n",
      "Skipping line 1014: expected 10 fields, saw 13\n",
      "\n",
      "  df = pd.read_csv(url, on_bad_lines='warn') # En este caso me daba un error de datos con mas columnas de las esperadas y como eran poco datos (5 o 6) los limpié a mano\n"
     ]
    },
    {
     "data": {
      "text/html": [
       "<div>\n",
       "<style scoped>\n",
       "    .dataframe tbody tr th:only-of-type {\n",
       "        vertical-align: middle;\n",
       "    }\n",
       "\n",
       "    .dataframe tbody tr th {\n",
       "        vertical-align: top;\n",
       "    }\n",
       "\n",
       "    .dataframe thead th {\n",
       "        text-align: right;\n",
       "    }\n",
       "</style>\n",
       "<table border=\"1\" class=\"dataframe\">\n",
       "  <thead>\n",
       "    <tr style=\"text-align: right;\">\n",
       "      <th></th>\n",
       "      <th>campaign_name</th>\n",
       "      <th>start_date</th>\n",
       "      <th>end_date</th>\n",
       "      <th>budget</th>\n",
       "      <th>roi</th>\n",
       "      <th>type</th>\n",
       "      <th>target_audience</th>\n",
       "      <th>channel</th>\n",
       "      <th>conversion_rate</th>\n",
       "      <th>revenue</th>\n",
       "    </tr>\n",
       "  </thead>\n",
       "  <tbody>\n",
       "    <tr>\n",
       "      <th>0</th>\n",
       "      <td>Public-key multi-tasking throughput</td>\n",
       "      <td>2023-04-01</td>\n",
       "      <td>2024-02-23</td>\n",
       "      <td>8082.3</td>\n",
       "      <td>0.35</td>\n",
       "      <td>email</td>\n",
       "      <td>B2B</td>\n",
       "      <td>organic</td>\n",
       "      <td>0.40</td>\n",
       "      <td>709593.48</td>\n",
       "    </tr>\n",
       "    <tr>\n",
       "      <th>1</th>\n",
       "      <td>De-engineered analyzing task-force</td>\n",
       "      <td>2023-02-15</td>\n",
       "      <td>2024-04-22</td>\n",
       "      <td>17712.98</td>\n",
       "      <td>0.74</td>\n",
       "      <td>email</td>\n",
       "      <td>B2C</td>\n",
       "      <td>promotion</td>\n",
       "      <td>0.66</td>\n",
       "      <td>516609.10</td>\n",
       "    </tr>\n",
       "    <tr>\n",
       "      <th>2</th>\n",
       "      <td>Balanced solution-oriented Local Area Network</td>\n",
       "      <td>2022-12-20</td>\n",
       "      <td>2023-10-11</td>\n",
       "      <td>84643.1</td>\n",
       "      <td>0.37</td>\n",
       "      <td>podcast</td>\n",
       "      <td>B2B</td>\n",
       "      <td>paid</td>\n",
       "      <td>0.28</td>\n",
       "      <td>458227.42</td>\n",
       "    </tr>\n",
       "    <tr>\n",
       "      <th>3</th>\n",
       "      <td>Distributed real-time methodology</td>\n",
       "      <td>2022-09-26</td>\n",
       "      <td>2023-09-27</td>\n",
       "      <td>14589.75</td>\n",
       "      <td>0.47</td>\n",
       "      <td>webinar</td>\n",
       "      <td>B2B</td>\n",
       "      <td>organic</td>\n",
       "      <td>0.19</td>\n",
       "      <td>89958.73</td>\n",
       "    </tr>\n",
       "    <tr>\n",
       "      <th>4</th>\n",
       "      <td>Front-line executive infrastructure</td>\n",
       "      <td>2023-07-07</td>\n",
       "      <td>2024-05-15</td>\n",
       "      <td>39291.9</td>\n",
       "      <td>0.30</td>\n",
       "      <td>social media</td>\n",
       "      <td>B2B</td>\n",
       "      <td>promotion</td>\n",
       "      <td>0.81</td>\n",
       "      <td>47511.35</td>\n",
       "    </tr>\n",
       "  </tbody>\n",
       "</table>\n",
       "</div>"
      ],
      "text/plain": [
       "                                   campaign_name  start_date    end_date  \\\n",
       "0            Public-key multi-tasking throughput  2023-04-01  2024-02-23   \n",
       "1             De-engineered analyzing task-force  2023-02-15  2024-04-22   \n",
       "2  Balanced solution-oriented Local Area Network  2022-12-20  2023-10-11   \n",
       "3              Distributed real-time methodology  2022-09-26  2023-09-27   \n",
       "4            Front-line executive infrastructure  2023-07-07  2024-05-15   \n",
       "\n",
       "     budget   roi          type target_audience    channel  conversion_rate  \\\n",
       "0    8082.3  0.35         email             B2B    organic             0.40   \n",
       "1  17712.98  0.74         email             B2C  promotion             0.66   \n",
       "2   84643.1  0.37       podcast             B2B       paid             0.28   \n",
       "3  14589.75  0.47       webinar             B2B    organic             0.19   \n",
       "4   39291.9  0.30  social media             B2B  promotion             0.81   \n",
       "\n",
       "     revenue  \n",
       "0  709593.48  \n",
       "1  516609.10  \n",
       "2  458227.42  \n",
       "3   89958.73  \n",
       "4   47511.35  "
      ]
     },
     "execution_count": 121,
     "metadata": {},
     "output_type": "execute_result"
    }
   ],
   "source": [
    "url = 'C:/Users/david.frigerio_softo/Documents/GitHub/Desafio-de-Marketing/data/marketingcampaigns.csv'\n",
    "df = pd.read_csv(url, on_bad_lines='warn') # En este caso me daba un error de datos con mas columnas de las esperadas y como eran poco datos (5 o 6) los limpié a mano\n",
    "df.head(5)"
   ]
  },
  {
   "cell_type": "markdown",
   "metadata": {},
   "source": [
    "### A continuación voy a revisar las primeras y ultimas filas del dataset para tener una idea de la estructura de los datos"
   ]
  },
  {
   "cell_type": "code",
   "execution_count": 122,
   "metadata": {},
   "outputs": [
    {
     "data": {
      "text/html": [
       "<div>\n",
       "<style scoped>\n",
       "    .dataframe tbody tr th:only-of-type {\n",
       "        vertical-align: middle;\n",
       "    }\n",
       "\n",
       "    .dataframe tbody tr th {\n",
       "        vertical-align: top;\n",
       "    }\n",
       "\n",
       "    .dataframe thead th {\n",
       "        text-align: right;\n",
       "    }\n",
       "</style>\n",
       "<table border=\"1\" class=\"dataframe\">\n",
       "  <thead>\n",
       "    <tr style=\"text-align: right;\">\n",
       "      <th></th>\n",
       "      <th>campaign_name</th>\n",
       "      <th>start_date</th>\n",
       "      <th>end_date</th>\n",
       "      <th>budget</th>\n",
       "      <th>roi</th>\n",
       "      <th>type</th>\n",
       "      <th>target_audience</th>\n",
       "      <th>channel</th>\n",
       "      <th>conversion_rate</th>\n",
       "      <th>revenue</th>\n",
       "    </tr>\n",
       "  </thead>\n",
       "  <tbody>\n",
       "    <tr>\n",
       "      <th>0</th>\n",
       "      <td>Public-key multi-tasking throughput</td>\n",
       "      <td>2023-04-01</td>\n",
       "      <td>2024-02-23</td>\n",
       "      <td>8082.3</td>\n",
       "      <td>0.35</td>\n",
       "      <td>email</td>\n",
       "      <td>B2B</td>\n",
       "      <td>organic</td>\n",
       "      <td>0.40</td>\n",
       "      <td>709593.48</td>\n",
       "    </tr>\n",
       "    <tr>\n",
       "      <th>1</th>\n",
       "      <td>De-engineered analyzing task-force</td>\n",
       "      <td>2023-02-15</td>\n",
       "      <td>2024-04-22</td>\n",
       "      <td>17712.98</td>\n",
       "      <td>0.74</td>\n",
       "      <td>email</td>\n",
       "      <td>B2C</td>\n",
       "      <td>promotion</td>\n",
       "      <td>0.66</td>\n",
       "      <td>516609.10</td>\n",
       "    </tr>\n",
       "    <tr>\n",
       "      <th>2</th>\n",
       "      <td>Balanced solution-oriented Local Area Network</td>\n",
       "      <td>2022-12-20</td>\n",
       "      <td>2023-10-11</td>\n",
       "      <td>84643.1</td>\n",
       "      <td>0.37</td>\n",
       "      <td>podcast</td>\n",
       "      <td>B2B</td>\n",
       "      <td>paid</td>\n",
       "      <td>0.28</td>\n",
       "      <td>458227.42</td>\n",
       "    </tr>\n",
       "    <tr>\n",
       "      <th>3</th>\n",
       "      <td>Distributed real-time methodology</td>\n",
       "      <td>2022-09-26</td>\n",
       "      <td>2023-09-27</td>\n",
       "      <td>14589.75</td>\n",
       "      <td>0.47</td>\n",
       "      <td>webinar</td>\n",
       "      <td>B2B</td>\n",
       "      <td>organic</td>\n",
       "      <td>0.19</td>\n",
       "      <td>89958.73</td>\n",
       "    </tr>\n",
       "    <tr>\n",
       "      <th>4</th>\n",
       "      <td>Front-line executive infrastructure</td>\n",
       "      <td>2023-07-07</td>\n",
       "      <td>2024-05-15</td>\n",
       "      <td>39291.9</td>\n",
       "      <td>0.30</td>\n",
       "      <td>social media</td>\n",
       "      <td>B2B</td>\n",
       "      <td>promotion</td>\n",
       "      <td>0.81</td>\n",
       "      <td>47511.35</td>\n",
       "    </tr>\n",
       "  </tbody>\n",
       "</table>\n",
       "</div>"
      ],
      "text/plain": [
       "                                   campaign_name  start_date    end_date  \\\n",
       "0            Public-key multi-tasking throughput  2023-04-01  2024-02-23   \n",
       "1             De-engineered analyzing task-force  2023-02-15  2024-04-22   \n",
       "2  Balanced solution-oriented Local Area Network  2022-12-20  2023-10-11   \n",
       "3              Distributed real-time methodology  2022-09-26  2023-09-27   \n",
       "4            Front-line executive infrastructure  2023-07-07  2024-05-15   \n",
       "\n",
       "     budget   roi          type target_audience    channel  conversion_rate  \\\n",
       "0    8082.3  0.35         email             B2B    organic             0.40   \n",
       "1  17712.98  0.74         email             B2C  promotion             0.66   \n",
       "2   84643.1  0.37       podcast             B2B       paid             0.28   \n",
       "3  14589.75  0.47       webinar             B2B    organic             0.19   \n",
       "4   39291.9  0.30  social media             B2B  promotion             0.81   \n",
       "\n",
       "     revenue  \n",
       "0  709593.48  \n",
       "1  516609.10  \n",
       "2  458227.42  \n",
       "3   89958.73  \n",
       "4   47511.35  "
      ]
     },
     "execution_count": 122,
     "metadata": {},
     "output_type": "execute_result"
    }
   ],
   "source": [
    "# Primeras files\n",
    "df.head(5)"
   ]
  },
  {
   "cell_type": "code",
   "execution_count": 123,
   "metadata": {},
   "outputs": [
    {
     "data": {
      "text/html": [
       "<div>\n",
       "<style scoped>\n",
       "    .dataframe tbody tr th:only-of-type {\n",
       "        vertical-align: middle;\n",
       "    }\n",
       "\n",
       "    .dataframe tbody tr th {\n",
       "        vertical-align: top;\n",
       "    }\n",
       "\n",
       "    .dataframe thead th {\n",
       "        text-align: right;\n",
       "    }\n",
       "</style>\n",
       "<table border=\"1\" class=\"dataframe\">\n",
       "  <thead>\n",
       "    <tr style=\"text-align: right;\">\n",
       "      <th></th>\n",
       "      <th>campaign_name</th>\n",
       "      <th>start_date</th>\n",
       "      <th>end_date</th>\n",
       "      <th>budget</th>\n",
       "      <th>roi</th>\n",
       "      <th>type</th>\n",
       "      <th>target_audience</th>\n",
       "      <th>channel</th>\n",
       "      <th>conversion_rate</th>\n",
       "      <th>revenue</th>\n",
       "    </tr>\n",
       "  </thead>\n",
       "  <tbody>\n",
       "    <tr>\n",
       "      <th>1022</th>\n",
       "      <td>Broken-date campaign</td>\n",
       "      <td>2023-13-01</td>\n",
       "      <td>2024-01-01</td>\n",
       "      <td>25000</td>\n",
       "      <td>0.45</td>\n",
       "      <td>email</td>\n",
       "      <td>B2B</td>\n",
       "      <td>organic</td>\n",
       "      <td>NaN</td>\n",
       "      <td>87500.0</td>\n",
       "    </tr>\n",
       "    <tr>\n",
       "      <th>1023</th>\n",
       "      <td>Negative ROI test</td>\n",
       "      <td>2022-10-10</td>\n",
       "      <td>2023-05-05</td>\n",
       "      <td>-10000</td>\n",
       "      <td>-0.20</td>\n",
       "      <td>podcast</td>\n",
       "      <td>B2C</td>\n",
       "      <td>referral</td>\n",
       "      <td>0.10</td>\n",
       "      <td>NaN</td>\n",
       "    </tr>\n",
       "    <tr>\n",
       "      <th>1024</th>\n",
       "      <td>Null-heavy campaign</td>\n",
       "      <td>2023-01-01</td>\n",
       "      <td>NaN</td>\n",
       "      <td>NaN</td>\n",
       "      <td>NaN</td>\n",
       "      <td>B2B</td>\n",
       "      <td>social media</td>\n",
       "      <td>NaN</td>\n",
       "      <td>NaN</td>\n",
       "      <td>NaN</td>\n",
       "    </tr>\n",
       "    <tr>\n",
       "      <th>1025</th>\n",
       "      <td>Future campaign</td>\n",
       "      <td>2025-01-01</td>\n",
       "      <td>2025-06-01</td>\n",
       "      <td>75000</td>\n",
       "      <td>0.90</td>\n",
       "      <td>webinar</td>\n",
       "      <td>B2C</td>\n",
       "      <td>promotion</td>\n",
       "      <td>0.65</td>\n",
       "      <td>200000.0</td>\n",
       "    </tr>\n",
       "    <tr>\n",
       "      <th>1026</th>\n",
       "      <td>Extra long name campaign test</td>\n",
       "      <td>2023-04-15</td>\n",
       "      <td>2023-09-15</td>\n",
       "      <td>30000</td>\n",
       "      <td>0.25</td>\n",
       "      <td>email</td>\n",
       "      <td>NaN</td>\n",
       "      <td>paid</td>\n",
       "      <td>0.40</td>\n",
       "      <td>45000.0</td>\n",
       "    </tr>\n",
       "    <tr>\n",
       "      <th>1027</th>\n",
       "      <td>No revenue campaign</td>\n",
       "      <td>2023-02-01</td>\n",
       "      <td>2023-08-01</td>\n",
       "      <td>20000</td>\n",
       "      <td>0.30</td>\n",
       "      <td>social media</td>\n",
       "      <td>B2B</td>\n",
       "      <td>organic</td>\n",
       "      <td>0.50</td>\n",
       "      <td>NaN</td>\n",
       "    </tr>\n",
       "    <tr>\n",
       "      <th>1028</th>\n",
       "      <td>Random mess</td>\n",
       "      <td>2023-06-06</td>\n",
       "      <td>NaN</td>\n",
       "      <td>100000</td>\n",
       "      <td>NaN</td>\n",
       "      <td>podcast</td>\n",
       "      <td>NaN</td>\n",
       "      <td>referral</td>\n",
       "      <td>NaN</td>\n",
       "      <td>300000.0</td>\n",
       "    </tr>\n",
       "    <tr>\n",
       "      <th>1029</th>\n",
       "      <td>Invalid budget</td>\n",
       "      <td>2022-12-01</td>\n",
       "      <td>2023-06-01</td>\n",
       "      <td>abc</td>\n",
       "      <td>NaN</td>\n",
       "      <td>email</td>\n",
       "      <td>B2C</td>\n",
       "      <td>promotion</td>\n",
       "      <td>0.20</td>\n",
       "      <td>50000.0</td>\n",
       "    </tr>\n",
       "    <tr>\n",
       "      <th>1030</th>\n",
       "      <td>Overlapping dates</td>\n",
       "      <td>2023-03-01</td>\n",
       "      <td>2022-12-31</td>\n",
       "      <td>60000</td>\n",
       "      <td>0.60</td>\n",
       "      <td>webinar</td>\n",
       "      <td>B2B</td>\n",
       "      <td>paid</td>\n",
       "      <td>0.70</td>\n",
       "      <td>90000.0</td>\n",
       "    </tr>\n",
       "    <tr>\n",
       "      <th>1031</th>\n",
       "      <td>Too many conversions</td>\n",
       "      <td>2023-05-01</td>\n",
       "      <td>2023-11-01</td>\n",
       "      <td>40000</td>\n",
       "      <td>0.80</td>\n",
       "      <td>social media</td>\n",
       "      <td>B2C</td>\n",
       "      <td>organic</td>\n",
       "      <td>1.50</td>\n",
       "      <td>120000.0</td>\n",
       "    </tr>\n",
       "  </tbody>\n",
       "</table>\n",
       "</div>"
      ],
      "text/plain": [
       "                      campaign_name  start_date    end_date  budget   roi  \\\n",
       "1022           Broken-date campaign  2023-13-01  2024-01-01   25000  0.45   \n",
       "1023              Negative ROI test  2022-10-10  2023-05-05  -10000 -0.20   \n",
       "1024            Null-heavy campaign  2023-01-01         NaN     NaN   NaN   \n",
       "1025                Future campaign  2025-01-01  2025-06-01   75000  0.90   \n",
       "1026  Extra long name campaign test  2023-04-15  2023-09-15   30000  0.25   \n",
       "1027            No revenue campaign  2023-02-01  2023-08-01   20000  0.30   \n",
       "1028                    Random mess  2023-06-06         NaN  100000   NaN   \n",
       "1029                 Invalid budget  2022-12-01  2023-06-01     abc   NaN   \n",
       "1030              Overlapping dates  2023-03-01  2022-12-31   60000  0.60   \n",
       "1031           Too many conversions  2023-05-01  2023-11-01   40000  0.80   \n",
       "\n",
       "              type target_audience    channel  conversion_rate   revenue  \n",
       "1022         email             B2B    organic              NaN   87500.0  \n",
       "1023       podcast             B2C   referral             0.10       NaN  \n",
       "1024           B2B    social media        NaN              NaN       NaN  \n",
       "1025       webinar             B2C  promotion             0.65  200000.0  \n",
       "1026         email             NaN       paid             0.40   45000.0  \n",
       "1027  social media             B2B    organic             0.50       NaN  \n",
       "1028       podcast             NaN   referral              NaN  300000.0  \n",
       "1029         email             B2C  promotion             0.20   50000.0  \n",
       "1030       webinar             B2B       paid             0.70   90000.0  \n",
       "1031  social media             B2C    organic             1.50  120000.0  "
      ]
     },
     "execution_count": 123,
     "metadata": {},
     "output_type": "execute_result"
    }
   ],
   "source": [
    "# Ultimas filas\n",
    "df.tail(10)"
   ]
  },
  {
   "cell_type": "markdown",
   "metadata": {},
   "source": [
    "### Por el nombre de las ultimas 8 campañas (\"typo in date\", \"duplicated campaign\", etc) ya podemos ver que esos registros tienen algunas inconsistencias, lo tendremos en cuenta para la limpieza"
   ]
  },
  {
   "cell_type": "markdown",
   "metadata": {},
   "source": [
    "### Ahora veremos los tipos de datos de cada columna y su coherencia"
   ]
  },
  {
   "cell_type": "code",
   "execution_count": 124,
   "metadata": {},
   "outputs": [
    {
     "data": {
      "text/plain": [
       "campaign_name       object\n",
       "start_date          object\n",
       "end_date            object\n",
       "budget              object\n",
       "roi                float64\n",
       "type                object\n",
       "target_audience     object\n",
       "channel             object\n",
       "conversion_rate    float64\n",
       "revenue            float64\n",
       "dtype: object"
      ]
     },
     "execution_count": 124,
     "metadata": {},
     "output_type": "execute_result"
    }
   ],
   "source": [
    "df.dtypes"
   ]
  },
  {
   "cell_type": "markdown",
   "metadata": {},
   "source": [
    "Podemos ver que hay tipos de datos inconsistentes en las columnas start and end date y budge. Lo tenemos en cuenta para luego corregirlo."
   ]
  },
  {
   "cell_type": "markdown",
   "metadata": {},
   "source": [
    "### A continuación voy a revisar los valores faltantes y su distribución por columna"
   ]
  },
  {
   "cell_type": "code",
   "execution_count": 125,
   "metadata": {},
   "outputs": [
    {
     "data": {
      "text/plain": [
       "campaign_name      0\n",
       "start_date         1\n",
       "end_date           2\n",
       "budget             3\n",
       "roi                4\n",
       "type               1\n",
       "target_audience    2\n",
       "channel            1\n",
       "conversion_rate    4\n",
       "revenue            3\n",
       "dtype: int64"
      ]
     },
     "execution_count": 125,
     "metadata": {},
     "output_type": "execute_result"
    }
   ],
   "source": [
    "df.isnull().sum()"
   ]
  },
  {
   "cell_type": "code",
   "execution_count": 126,
   "metadata": {},
   "outputs": [
    {
     "data": {
      "text/plain": [
       "<Axes: >"
      ]
     },
     "execution_count": 126,
     "metadata": {},
     "output_type": "execute_result"
    },
    {
     "data": {
      "image/png": "[encoded data removed]",
      "text/plain": [
       "<Figure size 640x480 with 1 Axes>"
      ]
     },
     "metadata": {},
     "output_type": "display_data"
    }
   ],
   "source": [
    "sns.heatmap(df.isnull(), cbar=False, linecolor='red', cmap='jet')"
   ]
  },
  {
   "cell_type": "markdown",
   "metadata": {},
   "source": [
    "Veamnos la importancia de peso de los nulos por columna"
   ]
  },
  {
   "cell_type": "code",
   "execution_count": 127,
   "metadata": {},
   "outputs": [
    {
     "data": {
      "text/plain": [
       "campaign_name      0.000000\n",
       "start_date         0.096899\n",
       "end_date           0.193798\n",
       "budget             0.290698\n",
       "roi                0.387597\n",
       "type               0.096899\n",
       "target_audience    0.193798\n",
       "channel            0.096899\n",
       "conversion_rate    0.387597\n",
       "revenue            0.290698\n",
       "dtype: float64"
      ]
     },
     "execution_count": 127,
     "metadata": {},
     "output_type": "execute_result"
    }
   ],
   "source": [
    "df.isnull().sum() / df.shape[0] * 100"
   ]
  },
  {
   "cell_type": "markdown",
   "metadata": {},
   "source": [
    "Antes de ver estadisticas descriptivas, vamos a corregir el tipo de dato de la columna budget que hemos visto que es inconsistente, de lo contrario no podremos hacer operaciones matematicas con esto"
   ]
  },
  {
   "cell_type": "code",
   "execution_count": 128,
   "metadata": {},
   "outputs": [
    {
     "data": {
      "text/html": [
       "<div>\n",
       "<style scoped>\n",
       "    .dataframe tbody tr th:only-of-type {\n",
       "        vertical-align: middle;\n",
       "    }\n",
       "\n",
       "    .dataframe tbody tr th {\n",
       "        vertical-align: top;\n",
       "    }\n",
       "\n",
       "    .dataframe thead th {\n",
       "        text-align: right;\n",
       "    }\n",
       "</style>\n",
       "<table border=\"1\" class=\"dataframe\">\n",
       "  <thead>\n",
       "    <tr style=\"text-align: right;\">\n",
       "      <th></th>\n",
       "      <th>campaign_name</th>\n",
       "      <th>start_date</th>\n",
       "      <th>end_date</th>\n",
       "      <th>budget</th>\n",
       "      <th>roi</th>\n",
       "      <th>type</th>\n",
       "      <th>target_audience</th>\n",
       "      <th>channel</th>\n",
       "      <th>conversion_rate</th>\n",
       "      <th>revenue</th>\n",
       "    </tr>\n",
       "  </thead>\n",
       "  <tbody>\n",
       "    <tr>\n",
       "      <th>0</th>\n",
       "      <td>Public-key multi-tasking throughput</td>\n",
       "      <td>2023-04-01</td>\n",
       "      <td>2024-02-23</td>\n",
       "      <td>8082.3</td>\n",
       "      <td>0.35</td>\n",
       "      <td>email</td>\n",
       "      <td>B2B</td>\n",
       "      <td>organic</td>\n",
       "      <td>0.40</td>\n",
       "      <td>709593.48</td>\n",
       "    </tr>\n",
       "    <tr>\n",
       "      <th>1</th>\n",
       "      <td>De-engineered analyzing task-force</td>\n",
       "      <td>2023-02-15</td>\n",
       "      <td>2024-04-22</td>\n",
       "      <td>17712.98</td>\n",
       "      <td>0.74</td>\n",
       "      <td>email</td>\n",
       "      <td>B2C</td>\n",
       "      <td>promotion</td>\n",
       "      <td>0.66</td>\n",
       "      <td>516609.10</td>\n",
       "    </tr>\n",
       "    <tr>\n",
       "      <th>2</th>\n",
       "      <td>Balanced solution-oriented Local Area Network</td>\n",
       "      <td>2022-12-20</td>\n",
       "      <td>2023-10-11</td>\n",
       "      <td>84643.1</td>\n",
       "      <td>0.37</td>\n",
       "      <td>podcast</td>\n",
       "      <td>B2B</td>\n",
       "      <td>paid</td>\n",
       "      <td>0.28</td>\n",
       "      <td>458227.42</td>\n",
       "    </tr>\n",
       "    <tr>\n",
       "      <th>3</th>\n",
       "      <td>Distributed real-time methodology</td>\n",
       "      <td>2022-09-26</td>\n",
       "      <td>2023-09-27</td>\n",
       "      <td>14589.75</td>\n",
       "      <td>0.47</td>\n",
       "      <td>webinar</td>\n",
       "      <td>B2B</td>\n",
       "      <td>organic</td>\n",
       "      <td>0.19</td>\n",
       "      <td>89958.73</td>\n",
       "    </tr>\n",
       "    <tr>\n",
       "      <th>4</th>\n",
       "      <td>Front-line executive infrastructure</td>\n",
       "      <td>2023-07-07</td>\n",
       "      <td>2024-05-15</td>\n",
       "      <td>39291.9</td>\n",
       "      <td>0.30</td>\n",
       "      <td>social media</td>\n",
       "      <td>B2B</td>\n",
       "      <td>promotion</td>\n",
       "      <td>0.81</td>\n",
       "      <td>47511.35</td>\n",
       "    </tr>\n",
       "  </tbody>\n",
       "</table>\n",
       "</div>"
      ],
      "text/plain": [
       "                                   campaign_name  start_date    end_date  \\\n",
       "0            Public-key multi-tasking throughput  2023-04-01  2024-02-23   \n",
       "1             De-engineered analyzing task-force  2023-02-15  2024-04-22   \n",
       "2  Balanced solution-oriented Local Area Network  2022-12-20  2023-10-11   \n",
       "3              Distributed real-time methodology  2022-09-26  2023-09-27   \n",
       "4            Front-line executive infrastructure  2023-07-07  2024-05-15   \n",
       "\n",
       "     budget   roi          type target_audience    channel  conversion_rate  \\\n",
       "0    8082.3  0.35         email             B2B    organic             0.40   \n",
       "1  17712.98  0.74         email             B2C  promotion             0.66   \n",
       "2   84643.1  0.37       podcast             B2B       paid             0.28   \n",
       "3  14589.75  0.47       webinar             B2B    organic             0.19   \n",
       "4   39291.9  0.30  social media             B2B  promotion             0.81   \n",
       "\n",
       "     revenue  \n",
       "0  709593.48  \n",
       "1  516609.10  \n",
       "2  458227.42  \n",
       "3   89958.73  \n",
       "4   47511.35  "
      ]
     },
     "execution_count": 128,
     "metadata": {},
     "output_type": "execute_result"
    }
   ],
   "source": [
    "df['budget'] = df['budget'].astype('float', errors='ignore')\n",
    "df.head(5)"
   ]
  },
  {
   "cell_type": "code",
   "execution_count": 129,
   "metadata": {},
   "outputs": [
    {
     "data": {
      "text/plain": [
       "1029         abc\n",
       "1008     9999999\n",
       "53      99957.15\n",
       "330     99891.35\n",
       "28      99838.63\n",
       "          ...   \n",
       "1028      100000\n",
       "1023      -10000\n",
       "1003         NaN\n",
       "1005         NaN\n",
       "1024         NaN\n",
       "Name: budget, Length: 1032, dtype: object"
      ]
     },
     "execution_count": 129,
     "metadata": {},
     "output_type": "execute_result"
    }
   ],
   "source": [
    "df['budget'].sort_values(ascending=False)"
   ]
  },
  {
   "cell_type": "markdown",
   "metadata": {},
   "source": [
    "Voy a trabajar con otro metodo a ver si elimina los valores inconsistentes, siendo que son pocos se puede eliminar sin problemas"
   ]
  },
  {
   "cell_type": "code",
   "execution_count": 130,
   "metadata": {},
   "outputs": [
    {
     "data": {
      "text/plain": [
       "campaign_name       object\n",
       "start_date          object\n",
       "end_date            object\n",
       "budget             float64\n",
       "roi                float64\n",
       "type                object\n",
       "target_audience     object\n",
       "channel             object\n",
       "conversion_rate    float64\n",
       "revenue            float64\n",
       "dtype: object"
      ]
     },
     "execution_count": 130,
     "metadata": {},
     "output_type": "execute_result"
    }
   ],
   "source": [
    "df['budget'] = pd.to_numeric(df['budget'], errors='coerce')\n",
    "df.dtypes"
   ]
  },
  {
   "cell_type": "markdown",
   "metadata": {},
   "source": [
    "Vamos a ver ahora si este cambio ha generado muchos nulos o si ha eliminado muchos registros"
   ]
  },
  {
   "cell_type": "code",
   "execution_count": 131,
   "metadata": {},
   "outputs": [
    {
     "data": {
      "text/plain": [
       "campaign_name      0\n",
       "start_date         1\n",
       "end_date           2\n",
       "budget             4\n",
       "roi                4\n",
       "type               1\n",
       "target_audience    2\n",
       "channel            1\n",
       "conversion_rate    4\n",
       "revenue            3\n",
       "dtype: int64"
      ]
     },
     "execution_count": 131,
     "metadata": {},
     "output_type": "execute_result"
    }
   ],
   "source": [
    "df.isnull().sum()"
   ]
  },
  {
   "cell_type": "code",
   "execution_count": 132,
   "metadata": {},
   "outputs": [
    {
     "data": {
      "text/plain": [
       "1032"
      ]
     },
     "execution_count": 132,
     "metadata": {},
     "output_type": "execute_result"
    }
   ],
   "source": [
    "df.__len__()"
   ]
  },
  {
   "cell_type": "code",
   "execution_count": 133,
   "metadata": {},
   "outputs": [
    {
     "data": {
      "text/plain": [
       "1023     -10000.00\n",
       "252        1052.57\n",
       "887        1223.82\n",
       "38         1309.17\n",
       "835        1378.61\n",
       "           ...    \n",
       "1008    9999999.00\n",
       "1003           NaN\n",
       "1005           NaN\n",
       "1024           NaN\n",
       "1029           NaN\n",
       "Name: budget, Length: 1032, dtype: float64"
      ]
     },
     "execution_count": 133,
     "metadata": {},
     "output_type": "execute_result"
    }
   ],
   "source": [
    "df['budget'].sort_values(ascending=True)"
   ]
  },
  {
   "cell_type": "markdown",
   "metadata": {},
   "source": [
    "Veamos algunas estadisticas descriptivas de las columnas numéricas para detectar posibles anomalias y outliers"
   ]
  },
  {
   "cell_type": "code",
   "execution_count": 134,
   "metadata": {},
   "outputs": [
    {
     "data": {
      "text/html": [
       "<div>\n",
       "<style scoped>\n",
       "    .dataframe tbody tr th:only-of-type {\n",
       "        vertical-align: middle;\n",
       "    }\n",
       "\n",
       "    .dataframe tbody tr th {\n",
       "        vertical-align: top;\n",
       "    }\n",
       "\n",
       "    .dataframe thead th {\n",
       "        text-align: right;\n",
       "    }\n",
       "</style>\n",
       "<table border=\"1\" class=\"dataframe\">\n",
       "  <thead>\n",
       "    <tr style=\"text-align: right;\">\n",
       "      <th></th>\n",
       "      <th>budget</th>\n",
       "      <th>roi</th>\n",
       "      <th>conversion_rate</th>\n",
       "      <th>revenue</th>\n",
       "    </tr>\n",
       "  </thead>\n",
       "  <tbody>\n",
       "    <tr>\n",
       "      <th>count</th>\n",
       "      <td>1.028000e+03</td>\n",
       "      <td>1028.000000</td>\n",
       "      <td>1028.000000</td>\n",
       "      <td>1029.000000</td>\n",
       "    </tr>\n",
       "    <tr>\n",
       "      <th>mean</th>\n",
       "      <td>5.899598e+04</td>\n",
       "      <td>0.533804</td>\n",
       "      <td>0.541936</td>\n",
       "      <td>511591.195277</td>\n",
       "    </tr>\n",
       "    <tr>\n",
       "      <th>std</th>\n",
       "      <td>3.116949e+05</td>\n",
       "      <td>0.261869</td>\n",
       "      <td>0.267353</td>\n",
       "      <td>287292.729847</td>\n",
       "    </tr>\n",
       "    <tr>\n",
       "      <th>min</th>\n",
       "      <td>-1.000000e+04</td>\n",
       "      <td>-0.200000</td>\n",
       "      <td>0.000000</td>\n",
       "      <td>108.210000</td>\n",
       "    </tr>\n",
       "    <tr>\n",
       "      <th>25%</th>\n",
       "      <td>2.473549e+04</td>\n",
       "      <td>0.310000</td>\n",
       "      <td>0.300000</td>\n",
       "      <td>267820.250000</td>\n",
       "    </tr>\n",
       "    <tr>\n",
       "      <th>50%</th>\n",
       "      <td>4.694824e+04</td>\n",
       "      <td>0.530000</td>\n",
       "      <td>0.550000</td>\n",
       "      <td>518001.770000</td>\n",
       "    </tr>\n",
       "    <tr>\n",
       "      <th>75%</th>\n",
       "      <td>7.492365e+04</td>\n",
       "      <td>0.760000</td>\n",
       "      <td>0.770000</td>\n",
       "      <td>765775.140000</td>\n",
       "    </tr>\n",
       "    <tr>\n",
       "      <th>max</th>\n",
       "      <td>9.999999e+06</td>\n",
       "      <td>0.990000</td>\n",
       "      <td>1.500000</td>\n",
       "      <td>999712.490000</td>\n",
       "    </tr>\n",
       "  </tbody>\n",
       "</table>\n",
       "</div>"
      ],
      "text/plain": [
       "             budget          roi  conversion_rate        revenue\n",
       "count  1.028000e+03  1028.000000      1028.000000    1029.000000\n",
       "mean   5.899598e+04     0.533804         0.541936  511591.195277\n",
       "std    3.116949e+05     0.261869         0.267353  287292.729847\n",
       "min   -1.000000e+04    -0.200000         0.000000     108.210000\n",
       "25%    2.473549e+04     0.310000         0.300000  267820.250000\n",
       "50%    4.694824e+04     0.530000         0.550000  518001.770000\n",
       "75%    7.492365e+04     0.760000         0.770000  765775.140000\n",
       "max    9.999999e+06     0.990000         1.500000  999712.490000"
      ]
     },
     "execution_count": 134,
     "metadata": {},
     "output_type": "execute_result"
    }
   ],
   "source": [
    "df.describe()"
   ]
  },
  {
   "cell_type": "markdown",
   "metadata": {},
   "source": [
    "Vamos a ver la distribución de los valors numericos"
   ]
  },
  {
   "cell_type": "code",
   "execution_count": 135,
   "metadata": {},
   "outputs": [
    {
     "data": {
      "image/png": "[encoded data removed]",
      "text/plain": [
       "<Figure size 1000x1000 with 4 Axes>"
      ]
     },
     "metadata": {},
     "output_type": "display_data"
    }
   ],
   "source": [
    "# Vamos a ver la distribución de los valors numericos\n",
    "df.hist(figsize=(10,10), color='skyblue', bins=20)\n",
    "plt.show()"
   ]
  },
  {
   "cell_type": "markdown",
   "metadata": {},
   "source": [
    "Se pueden observar algunos outliers en conversion rate y ROI. Budget se ve mu extaño, voy a probar con un boxplot para ver mejor"
   ]
  },
  {
   "cell_type": "code",
   "execution_count": 136,
   "metadata": {},
   "outputs": [
    {
     "data": {
      "text/plain": [
       "<Axes: xlabel='budget'>"
      ]
     },
     "execution_count": 136,
     "metadata": {},
     "output_type": "execute_result"
    },
    {
     "data": {
      "image/png": "[encoded data removed]",
      "text/plain": [
       "<Figure size 640x480 with 1 Axes>"
      ]
     },
     "metadata": {},
     "output_type": "display_data"
    }
   ],
   "source": [
    "sns.boxplot(x=df['budget'], color='skyblue')"
   ]
  },
  {
   "cell_type": "markdown",
   "metadata": {},
   "source": [
    "### Veamos la cantidad de duplicados"
   ]
  },
  {
   "cell_type": "code",
   "execution_count": 137,
   "metadata": {},
   "outputs": [
    {
     "data": {
      "text/plain": [
       "np.int64(27)"
      ]
     },
     "execution_count": 137,
     "metadata": {},
     "output_type": "execute_result"
    }
   ],
   "source": [
    "df.duplicated(keep=False).sum()"
   ]
  },
  {
   "cell_type": "markdown",
   "metadata": {},
   "source": [
    "### A ver si puedo ver los duplicados para darme una idea de como se ven"
   ]
  },
  {
   "cell_type": "code",
   "execution_count": 138,
   "metadata": {},
   "outputs": [
    {
     "data": {
      "text/html": [
       "<div>\n",
       "<style scoped>\n",
       "    .dataframe tbody tr th:only-of-type {\n",
       "        vertical-align: middle;\n",
       "    }\n",
       "\n",
       "    .dataframe tbody tr th {\n",
       "        vertical-align: top;\n",
       "    }\n",
       "\n",
       "    .dataframe thead th {\n",
       "        text-align: right;\n",
       "    }\n",
       "</style>\n",
       "<table border=\"1\" class=\"dataframe\">\n",
       "  <thead>\n",
       "    <tr style=\"text-align: right;\">\n",
       "      <th></th>\n",
       "      <th>campaign_name</th>\n",
       "      <th>start_date</th>\n",
       "      <th>end_date</th>\n",
       "      <th>budget</th>\n",
       "      <th>roi</th>\n",
       "      <th>type</th>\n",
       "      <th>target_audience</th>\n",
       "      <th>channel</th>\n",
       "      <th>conversion_rate</th>\n",
       "      <th>revenue</th>\n",
       "    </tr>\n",
       "  </thead>\n",
       "  <tbody>\n",
       "    <tr>\n",
       "      <th>1001</th>\n",
       "      <td>Balanced solution-oriented Local Area Network</td>\n",
       "      <td>2022-12-20</td>\n",
       "      <td>2023-10-11</td>\n",
       "      <td>84643.10</td>\n",
       "      <td>0.37</td>\n",
       "      <td>podcast</td>\n",
       "      <td>B2B</td>\n",
       "      <td>paid</td>\n",
       "      <td>0.28</td>\n",
       "      <td>458227.42</td>\n",
       "    </tr>\n",
       "    <tr>\n",
       "      <th>1011</th>\n",
       "      <td>Balanced solution-oriented Local Area Network</td>\n",
       "      <td>2022-12-20</td>\n",
       "      <td>2023-10-11</td>\n",
       "      <td>84643.10</td>\n",
       "      <td>0.37</td>\n",
       "      <td>podcast</td>\n",
       "      <td>B2B</td>\n",
       "      <td>paid</td>\n",
       "      <td>0.28</td>\n",
       "      <td>458227.42</td>\n",
       "    </tr>\n",
       "    <tr>\n",
       "      <th>2</th>\n",
       "      <td>Balanced solution-oriented Local Area Network</td>\n",
       "      <td>2022-12-20</td>\n",
       "      <td>2023-10-11</td>\n",
       "      <td>84643.10</td>\n",
       "      <td>0.37</td>\n",
       "      <td>podcast</td>\n",
       "      <td>B2B</td>\n",
       "      <td>paid</td>\n",
       "      <td>0.28</td>\n",
       "      <td>458227.42</td>\n",
       "    </tr>\n",
       "    <tr>\n",
       "      <th>11</th>\n",
       "      <td>Cross-platform demand-driven encoding</td>\n",
       "      <td>2023-07-21</td>\n",
       "      <td>2023-11-04</td>\n",
       "      <td>64041.37</td>\n",
       "      <td>0.16</td>\n",
       "      <td>social media</td>\n",
       "      <td>B2B</td>\n",
       "      <td>promotion</td>\n",
       "      <td>0.55</td>\n",
       "      <td>174462.47</td>\n",
       "    </tr>\n",
       "    <tr>\n",
       "      <th>1020</th>\n",
       "      <td>Cross-platform demand-driven encoding</td>\n",
       "      <td>2023-07-21</td>\n",
       "      <td>2023-11-04</td>\n",
       "      <td>64041.37</td>\n",
       "      <td>0.16</td>\n",
       "      <td>social media</td>\n",
       "      <td>B2B</td>\n",
       "      <td>promotion</td>\n",
       "      <td>0.55</td>\n",
       "      <td>174462.47</td>\n",
       "    </tr>\n",
       "    <tr>\n",
       "      <th>1010</th>\n",
       "      <td>De-engineered analyzing task-force</td>\n",
       "      <td>2023-02-15</td>\n",
       "      <td>2024-04-22</td>\n",
       "      <td>17712.98</td>\n",
       "      <td>0.74</td>\n",
       "      <td>email</td>\n",
       "      <td>B2C</td>\n",
       "      <td>promotion</td>\n",
       "      <td>0.66</td>\n",
       "      <td>516609.10</td>\n",
       "    </tr>\n",
       "    <tr>\n",
       "      <th>1</th>\n",
       "      <td>De-engineered analyzing task-force</td>\n",
       "      <td>2023-02-15</td>\n",
       "      <td>2024-04-22</td>\n",
       "      <td>17712.98</td>\n",
       "      <td>0.74</td>\n",
       "      <td>email</td>\n",
       "      <td>B2C</td>\n",
       "      <td>promotion</td>\n",
       "      <td>0.66</td>\n",
       "      <td>516609.10</td>\n",
       "    </tr>\n",
       "    <tr>\n",
       "      <th>3</th>\n",
       "      <td>Distributed real-time methodology</td>\n",
       "      <td>2022-09-26</td>\n",
       "      <td>2023-09-27</td>\n",
       "      <td>14589.75</td>\n",
       "      <td>0.47</td>\n",
       "      <td>webinar</td>\n",
       "      <td>B2B</td>\n",
       "      <td>organic</td>\n",
       "      <td>0.19</td>\n",
       "      <td>89958.73</td>\n",
       "    </tr>\n",
       "    <tr>\n",
       "      <th>1002</th>\n",
       "      <td>Distributed real-time methodology</td>\n",
       "      <td>2022-09-26</td>\n",
       "      <td>2023-09-27</td>\n",
       "      <td>14589.75</td>\n",
       "      <td>0.47</td>\n",
       "      <td>webinar</td>\n",
       "      <td>B2B</td>\n",
       "      <td>organic</td>\n",
       "      <td>0.19</td>\n",
       "      <td>89958.73</td>\n",
       "    </tr>\n",
       "    <tr>\n",
       "      <th>1012</th>\n",
       "      <td>Distributed real-time methodology</td>\n",
       "      <td>2022-09-26</td>\n",
       "      <td>2023-09-27</td>\n",
       "      <td>14589.75</td>\n",
       "      <td>0.47</td>\n",
       "      <td>webinar</td>\n",
       "      <td>B2B</td>\n",
       "      <td>organic</td>\n",
       "      <td>0.19</td>\n",
       "      <td>89958.73</td>\n",
       "    </tr>\n",
       "    <tr>\n",
       "      <th>4</th>\n",
       "      <td>Front-line executive infrastructure</td>\n",
       "      <td>2023-07-07</td>\n",
       "      <td>2024-05-15</td>\n",
       "      <td>39291.90</td>\n",
       "      <td>0.30</td>\n",
       "      <td>social media</td>\n",
       "      <td>B2B</td>\n",
       "      <td>promotion</td>\n",
       "      <td>0.81</td>\n",
       "      <td>47511.35</td>\n",
       "    </tr>\n",
       "    <tr>\n",
       "      <th>1013</th>\n",
       "      <td>Front-line executive infrastructure</td>\n",
       "      <td>2023-07-07</td>\n",
       "      <td>2024-05-15</td>\n",
       "      <td>39291.90</td>\n",
       "      <td>0.30</td>\n",
       "      <td>social media</td>\n",
       "      <td>B2B</td>\n",
       "      <td>promotion</td>\n",
       "      <td>0.81</td>\n",
       "      <td>47511.35</td>\n",
       "    </tr>\n",
       "    <tr>\n",
       "      <th>6</th>\n",
       "      <td>Innovative context-sensitive framework</td>\n",
       "      <td>2023-03-01</td>\n",
       "      <td>2024-02-23</td>\n",
       "      <td>28964.45</td>\n",
       "      <td>0.59</td>\n",
       "      <td>email</td>\n",
       "      <td>B2C</td>\n",
       "      <td>referral</td>\n",
       "      <td>0.17</td>\n",
       "      <td>172882.59</td>\n",
       "    </tr>\n",
       "    <tr>\n",
       "      <th>1015</th>\n",
       "      <td>Innovative context-sensitive framework</td>\n",
       "      <td>2023-03-01</td>\n",
       "      <td>2024-02-23</td>\n",
       "      <td>28964.45</td>\n",
       "      <td>0.59</td>\n",
       "      <td>email</td>\n",
       "      <td>B2C</td>\n",
       "      <td>referral</td>\n",
       "      <td>0.17</td>\n",
       "      <td>172882.59</td>\n",
       "    </tr>\n",
       "    <tr>\n",
       "      <th>1018</th>\n",
       "      <td>Intuitive responsive support</td>\n",
       "      <td>2022-11-25</td>\n",
       "      <td>2024-04-04</td>\n",
       "      <td>1816.22</td>\n",
       "      <td>0.81</td>\n",
       "      <td>social media</td>\n",
       "      <td>B2C</td>\n",
       "      <td>referral</td>\n",
       "      <td>0.85</td>\n",
       "      <td>563280.30</td>\n",
       "    </tr>\n",
       "    <tr>\n",
       "      <th>9</th>\n",
       "      <td>Intuitive responsive support</td>\n",
       "      <td>2022-11-25</td>\n",
       "      <td>2024-04-04</td>\n",
       "      <td>1816.22</td>\n",
       "      <td>0.81</td>\n",
       "      <td>social media</td>\n",
       "      <td>B2C</td>\n",
       "      <td>referral</td>\n",
       "      <td>0.85</td>\n",
       "      <td>563280.30</td>\n",
       "    </tr>\n",
       "    <tr>\n",
       "      <th>10</th>\n",
       "      <td>Multi-lateral dedicated workforce</td>\n",
       "      <td>2023-06-15</td>\n",
       "      <td>2024-06-15</td>\n",
       "      <td>94084.21</td>\n",
       "      <td>0.58</td>\n",
       "      <td>podcast</td>\n",
       "      <td>B2B</td>\n",
       "      <td>referral</td>\n",
       "      <td>0.23</td>\n",
       "      <td>406522.77</td>\n",
       "    </tr>\n",
       "    <tr>\n",
       "      <th>1019</th>\n",
       "      <td>Multi-lateral dedicated workforce</td>\n",
       "      <td>2023-06-15</td>\n",
       "      <td>2024-06-15</td>\n",
       "      <td>94084.21</td>\n",
       "      <td>0.58</td>\n",
       "      <td>podcast</td>\n",
       "      <td>B2B</td>\n",
       "      <td>referral</td>\n",
       "      <td>0.23</td>\n",
       "      <td>406522.77</td>\n",
       "    </tr>\n",
       "    <tr>\n",
       "      <th>8</th>\n",
       "      <td>Proactive neutral methodology</td>\n",
       "      <td>2022-09-06</td>\n",
       "      <td>2024-01-11</td>\n",
       "      <td>40493.88</td>\n",
       "      <td>0.16</td>\n",
       "      <td>webinar</td>\n",
       "      <td>B2C</td>\n",
       "      <td>organic</td>\n",
       "      <td>0.47</td>\n",
       "      <td>734755.76</td>\n",
       "    </tr>\n",
       "    <tr>\n",
       "      <th>1017</th>\n",
       "      <td>Proactive neutral methodology</td>\n",
       "      <td>2022-09-06</td>\n",
       "      <td>2024-01-11</td>\n",
       "      <td>40493.88</td>\n",
       "      <td>0.16</td>\n",
       "      <td>webinar</td>\n",
       "      <td>B2C</td>\n",
       "      <td>organic</td>\n",
       "      <td>0.47</td>\n",
       "      <td>734755.76</td>\n",
       "    </tr>\n",
       "    <tr>\n",
       "      <th>1009</th>\n",
       "      <td>Public-key multi-tasking throughput</td>\n",
       "      <td>2023-04-01</td>\n",
       "      <td>2024-02-23</td>\n",
       "      <td>8082.30</td>\n",
       "      <td>0.35</td>\n",
       "      <td>email</td>\n",
       "      <td>B2B</td>\n",
       "      <td>organic</td>\n",
       "      <td>0.40</td>\n",
       "      <td>709593.48</td>\n",
       "    </tr>\n",
       "    <tr>\n",
       "      <th>0</th>\n",
       "      <td>Public-key multi-tasking throughput</td>\n",
       "      <td>2023-04-01</td>\n",
       "      <td>2024-02-23</td>\n",
       "      <td>8082.30</td>\n",
       "      <td>0.35</td>\n",
       "      <td>email</td>\n",
       "      <td>B2B</td>\n",
       "      <td>organic</td>\n",
       "      <td>0.40</td>\n",
       "      <td>709593.48</td>\n",
       "    </tr>\n",
       "    <tr>\n",
       "      <th>1000</th>\n",
       "      <td>Public-key multi-tasking throughput</td>\n",
       "      <td>2023-04-01</td>\n",
       "      <td>2024-02-23</td>\n",
       "      <td>8082.30</td>\n",
       "      <td>0.35</td>\n",
       "      <td>email</td>\n",
       "      <td>B2B</td>\n",
       "      <td>organic</td>\n",
       "      <td>0.40</td>\n",
       "      <td>709593.48</td>\n",
       "    </tr>\n",
       "    <tr>\n",
       "      <th>1014</th>\n",
       "      <td>Upgradable transitional data-warehouse</td>\n",
       "      <td>2023-06-29</td>\n",
       "      <td>2023-12-13</td>\n",
       "      <td>75569.28</td>\n",
       "      <td>0.59</td>\n",
       "      <td>social media</td>\n",
       "      <td>B2C</td>\n",
       "      <td>referral</td>\n",
       "      <td>0.67</td>\n",
       "      <td>558302.11</td>\n",
       "    </tr>\n",
       "    <tr>\n",
       "      <th>5</th>\n",
       "      <td>Upgradable transitional data-warehouse</td>\n",
       "      <td>2023-06-29</td>\n",
       "      <td>2023-12-13</td>\n",
       "      <td>75569.28</td>\n",
       "      <td>0.59</td>\n",
       "      <td>social media</td>\n",
       "      <td>B2C</td>\n",
       "      <td>referral</td>\n",
       "      <td>0.67</td>\n",
       "      <td>558302.11</td>\n",
       "    </tr>\n",
       "    <tr>\n",
       "      <th>1016</th>\n",
       "      <td>User-friendly client-driven service-desk</td>\n",
       "      <td>2023-01-06</td>\n",
       "      <td>2023-12-11</td>\n",
       "      <td>36800.58</td>\n",
       "      <td>0.40</td>\n",
       "      <td>webinar</td>\n",
       "      <td>B2C</td>\n",
       "      <td>promotion</td>\n",
       "      <td>0.52</td>\n",
       "      <td>206241.46</td>\n",
       "    </tr>\n",
       "    <tr>\n",
       "      <th>7</th>\n",
       "      <td>User-friendly client-driven service-desk</td>\n",
       "      <td>2023-01-06</td>\n",
       "      <td>2023-12-11</td>\n",
       "      <td>36800.58</td>\n",
       "      <td>0.40</td>\n",
       "      <td>webinar</td>\n",
       "      <td>B2C</td>\n",
       "      <td>promotion</td>\n",
       "      <td>0.52</td>\n",
       "      <td>206241.46</td>\n",
       "    </tr>\n",
       "  </tbody>\n",
       "</table>\n",
       "</div>"
      ],
      "text/plain": [
       "                                      campaign_name  start_date    end_date  \\\n",
       "1001  Balanced solution-oriented Local Area Network  2022-12-20  2023-10-11   \n",
       "1011  Balanced solution-oriented Local Area Network  2022-12-20  2023-10-11   \n",
       "2     Balanced solution-oriented Local Area Network  2022-12-20  2023-10-11   \n",
       "11            Cross-platform demand-driven encoding  2023-07-21  2023-11-04   \n",
       "1020          Cross-platform demand-driven encoding  2023-07-21  2023-11-04   \n",
       "1010             De-engineered analyzing task-force  2023-02-15  2024-04-22   \n",
       "1                De-engineered analyzing task-force  2023-02-15  2024-04-22   \n",
       "3                 Distributed real-time methodology  2022-09-26  2023-09-27   \n",
       "1002              Distributed real-time methodology  2022-09-26  2023-09-27   \n",
       "1012              Distributed real-time methodology  2022-09-26  2023-09-27   \n",
       "4               Front-line executive infrastructure  2023-07-07  2024-05-15   \n",
       "1013            Front-line executive infrastructure  2023-07-07  2024-05-15   \n",
       "6            Innovative context-sensitive framework  2023-03-01  2024-02-23   \n",
       "1015         Innovative context-sensitive framework  2023-03-01  2024-02-23   \n",
       "1018                   Intuitive responsive support  2022-11-25  2024-04-04   \n",
       "9                      Intuitive responsive support  2022-11-25  2024-04-04   \n",
       "10                Multi-lateral dedicated workforce  2023-06-15  2024-06-15   \n",
       "1019              Multi-lateral dedicated workforce  2023-06-15  2024-06-15   \n",
       "8                     Proactive neutral methodology  2022-09-06  2024-01-11   \n",
       "1017                  Proactive neutral methodology  2022-09-06  2024-01-11   \n",
       "1009            Public-key multi-tasking throughput  2023-04-01  2024-02-23   \n",
       "0               Public-key multi-tasking throughput  2023-04-01  2024-02-23   \n",
       "1000            Public-key multi-tasking throughput  2023-04-01  2024-02-23   \n",
       "1014         Upgradable transitional data-warehouse  2023-06-29  2023-12-13   \n",
       "5            Upgradable transitional data-warehouse  2023-06-29  2023-12-13   \n",
       "1016       User-friendly client-driven service-desk  2023-01-06  2023-12-11   \n",
       "7          User-friendly client-driven service-desk  2023-01-06  2023-12-11   \n",
       "\n",
       "        budget   roi          type target_audience    channel  \\\n",
       "1001  84643.10  0.37       podcast             B2B       paid   \n",
       "1011  84643.10  0.37       podcast             B2B       paid   \n",
       "2     84643.10  0.37       podcast             B2B       paid   \n",
       "11    64041.37  0.16  social media             B2B  promotion   \n",
       "1020  64041.37  0.16  social media             B2B  promotion   \n",
       "1010  17712.98  0.74         email             B2C  promotion   \n",
       "1     17712.98  0.74         email             B2C  promotion   \n",
       "3     14589.75  0.47       webinar             B2B    organic   \n",
       "1002  14589.75  0.47       webinar             B2B    organic   \n",
       "1012  14589.75  0.47       webinar             B2B    organic   \n",
       "4     39291.90  0.30  social media             B2B  promotion   \n",
       "1013  39291.90  0.30  social media             B2B  promotion   \n",
       "6     28964.45  0.59         email             B2C   referral   \n",
       "1015  28964.45  0.59         email             B2C   referral   \n",
       "1018   1816.22  0.81  social media             B2C   referral   \n",
       "9      1816.22  0.81  social media             B2C   referral   \n",
       "10    94084.21  0.58       podcast             B2B   referral   \n",
       "1019  94084.21  0.58       podcast             B2B   referral   \n",
       "8     40493.88  0.16       webinar             B2C    organic   \n",
       "1017  40493.88  0.16       webinar             B2C    organic   \n",
       "1009   8082.30  0.35         email             B2B    organic   \n",
       "0      8082.30  0.35         email             B2B    organic   \n",
       "1000   8082.30  0.35         email             B2B    organic   \n",
       "1014  75569.28  0.59  social media             B2C   referral   \n",
       "5     75569.28  0.59  social media             B2C   referral   \n",
       "1016  36800.58  0.40       webinar             B2C  promotion   \n",
       "7     36800.58  0.40       webinar             B2C  promotion   \n",
       "\n",
       "      conversion_rate    revenue  \n",
       "1001             0.28  458227.42  \n",
       "1011             0.28  458227.42  \n",
       "2                0.28  458227.42  \n",
       "11               0.55  174462.47  \n",
       "1020             0.55  174462.47  \n",
       "1010             0.66  516609.10  \n",
       "1                0.66  516609.10  \n",
       "3                0.19   89958.73  \n",
       "1002             0.19   89958.73  \n",
       "1012             0.19   89958.73  \n",
       "4                0.81   47511.35  \n",
       "1013             0.81   47511.35  \n",
       "6                0.17  172882.59  \n",
       "1015             0.17  172882.59  \n",
       "1018             0.85  563280.30  \n",
       "9                0.85  563280.30  \n",
       "10               0.23  406522.77  \n",
       "1019             0.23  406522.77  \n",
       "8                0.47  734755.76  \n",
       "1017             0.47  734755.76  \n",
       "1009             0.40  709593.48  \n",
       "0                0.40  709593.48  \n",
       "1000             0.40  709593.48  \n",
       "1014             0.67  558302.11  \n",
       "5                0.67  558302.11  \n",
       "1016             0.52  206241.46  \n",
       "7                0.52  206241.46  "
      ]
     },
     "execution_count": 138,
     "metadata": {},
     "output_type": "execute_result"
    }
   ],
   "source": [
    "df_duplicados = df.duplicated(keep=False)\n",
    "df[df_duplicados].sort_values(by='campaign_name')"
   ]
  },
  {
   "cell_type": "markdown",
   "metadata": {},
   "source": [
    "## Ahora veamos como se comportan las variables categoricas"
   ]
  },
  {
   "cell_type": "code",
   "execution_count": 139,
   "metadata": {},
   "outputs": [
    {
     "name": "stdout",
     "output_type": "stream",
     "text": [
      "Columna: type\n",
      "type\n",
      "email           288\n",
      "webinar         268\n",
      "social media    240\n",
      "podcast         233\n",
      "event             1\n",
      "B2B               1\n",
      "Name: count, dtype: int64\n",
      "\n",
      "\n",
      "Columna: target_audience\n",
      "target_audience\n",
      "B2B             529\n",
      "B2C             500\n",
      "social media      1\n",
      "Name: count, dtype: int64\n",
      "\n",
      "\n",
      "Columna: channel\n",
      "channel\n",
      "promotion    280\n",
      "referral     258\n",
      "organic      250\n",
      "paid         243\n",
      "Name: count, dtype: int64\n",
      "\n",
      "\n"
     ]
    },
    {
     "name": "stderr",
     "output_type": "stream",
     "text": [
      "C:\\Users\\david.frigerio_softo\\AppData\\Local\\Temp\\ipykernel_27444\\3391725732.py:11: FutureWarning: \n",
      "\n",
      "Passing `palette` without assigning `hue` is deprecated and will be removed in v0.14.0. Assign the `x` variable to `hue` and set `legend=False` for the same effect.\n",
      "\n",
      "  sns.countplot(data=df, x=col, order=df[col].value_counts().index, palette='viridis')\n"
     ]
    },
    {
     "data": {
      "image/png": "[encoded data removed]",
      "text/plain": [
       "<Figure size 800x400 with 1 Axes>"
      ]
     },
     "metadata": {},
     "output_type": "display_data"
    },
    {
     "name": "stderr",
     "output_type": "stream",
     "text": [
      "C:\\Users\\david.frigerio_softo\\AppData\\Local\\Temp\\ipykernel_27444\\3391725732.py:11: FutureWarning: \n",
      "\n",
      "Passing `palette` without assigning `hue` is deprecated and will be removed in v0.14.0. Assign the `x` variable to `hue` and set `legend=False` for the same effect.\n",
      "\n",
      "  sns.countplot(data=df, x=col, order=df[col].value_counts().index, palette='viridis')\n"
     ]
    },
    {
     "data": {
      "image/png": "[encoded data removed]",
      "text/plain": [
       "<Figure size 800x400 with 1 Axes>"
      ]
     },
     "metadata": {},
     "output_type": "display_data"
    },
    {
     "name": "stderr",
     "output_type": "stream",
     "text": [
      "C:\\Users\\david.frigerio_softo\\AppData\\Local\\Temp\\ipykernel_27444\\3391725732.py:11: FutureWarning: \n",
      "\n",
      "Passing `palette` without assigning `hue` is deprecated and will be removed in v0.14.0. Assign the `x` variable to `hue` and set `legend=False` for the same effect.\n",
      "\n",
      "  sns.countplot(data=df, x=col, order=df[col].value_counts().index, palette='viridis')\n"
     ]
    },
    {
     "data": {
      "image/png": "[encoded data removed]",
      "text/plain": [
       "<Figure size 800x400 with 1 Axes>"
      ]
     },
     "metadata": {},
     "output_type": "display_data"
    }
   ],
   "source": [
    "# Veamos la cantidad de valores únicos por cada columna categórica\n",
    "categorical_columns = ['type', 'target_audience', 'channel']\n",
    "for col in categorical_columns:\n",
    "    print(f\"Columna: {col}\")\n",
    "    print(df[col].value_counts())\n",
    "    print(\"\\n\")\n",
    "\n",
    "# Visualización de la distribución de las variables categóricas\n",
    "for col in categorical_columns:\n",
    "    plt.figure(figsize=(8, 4))\n",
    "    sns.countplot(data=df, x=col, order=df[col].value_counts().index, palette='viridis')\n",
    "    plt.title(f\"Distribución de la columna {col}\")\n",
    "    plt.xticks(rotation=45)\n",
    "    plt.show()"
   ]
  },
  {
   "cell_type": "markdown",
   "metadata": {},
   "source": [
    "La columna channel tiene 4 valores unicos, y se ve correcta, sin embargo target audience y type tienen valores que no corresponden a lo que deberian ser, vamos a tenerlo en cuenta para corregirlo luego"
   ]
  },
  {
   "cell_type": "markdown",
   "metadata": {},
   "source": [
    "## Documentamos los problemas encontrados en esta fase y los coloco en orden de prioridad\n",
    "- **Inconsistencia tipo de dato:** Tipo de dato incorrecto para start_date, end_date y budget (el de budget ya se corrigió para poder hacer analítica descritpiva)\n",
    "- **Valores nulos:** Hay valores nulos en general pero para todas las columnas representa menos de un 1% de los datos, por lo que no es un problema grave\n",
    "- **Outliers:** Hay outliers en conversion_rate y ROI, pero son pocos y podria limpiarse no parece ser un problema grave. Sin embargo, Buget tiene un comportamiento muy extraño y hay que revisar si los outliers son errores o quizás alguna campaña real con un budget muy alto, esto merece revisión.\n",
    "- **Duplicados:** Hay 27 registros duplicados, no es un gran problema grave pero se deberían eliminar para no tener problemas en el análisis\n",
    "- **Inconsistencia en valores:** Hay valores en target_audience y type que no corresponden a lo que deberían ser, son apenas 3 registros asi que no representa un gran problema y podría limpiarse sin problemas"
   ]
  },
  {
   "cell_type": "markdown",
   "metadata": {},
   "source": [
    "# Vamos a comenzar a limpiar los datos. Comenzamos con el manejo de los valores faltantes."
   ]
  },
  {
   "cell_type": "code",
   "execution_count": 140,
   "metadata": {},
   "outputs": [
    {
     "data": {
      "text/plain": [
       "campaign_name      0\n",
       "start_date         1\n",
       "end_date           2\n",
       "budget             4\n",
       "roi                4\n",
       "type               1\n",
       "target_audience    2\n",
       "channel            1\n",
       "conversion_rate    4\n",
       "revenue            3\n",
       "dtype: int64"
      ]
     },
     "execution_count": 140,
     "metadata": {},
     "output_type": "execute_result"
    }
   ],
   "source": [
    "df.isnull().sum()"
   ]
  },
  {
   "cell_type": "code",
   "execution_count": 141,
   "metadata": {},
   "outputs": [
    {
     "data": {
      "text/plain": [
       "campaign_name      0.000000\n",
       "start_date         0.096899\n",
       "end_date           0.193798\n",
       "budget             0.387597\n",
       "roi                0.387597\n",
       "type               0.096899\n",
       "target_audience    0.193798\n",
       "channel            0.096899\n",
       "conversion_rate    0.387597\n",
       "revenue            0.290698\n",
       "dtype: float64"
      ]
     },
     "execution_count": 141,
     "metadata": {},
     "output_type": "execute_result"
    }
   ],
   "source": [
    "df.isnull().sum() / df.shape[0] * 100"
   ]
  },
  {
   "cell_type": "markdown",
   "metadata": {},
   "source": [
    "Para start date y end date son muy pocos los valores nulos y su peso asi que se justifica eliminarlos ya que no tenemos una forma matemática para reemplazarlos. Se podria ver la relacion entre diferentes variables para estimar la duración promedio de una campaña en particular y si tenemos una de ambas fechas podriamos calcular la otra, pero mo merece la pena por la poca cantidad de nulos."
   ]
  },
  {
   "cell_type": "markdown",
   "metadata": {},
   "source": [
    "Para budget, reemplazaremos los nulos por un valor que represente la media para cada tipo de campaña/channel (organic, paid, referral, etc) y typo (email, podcast, webinar, etc)"
   ]
  },
  {
   "cell_type": "code",
   "execution_count": 142,
   "metadata": {},
   "outputs": [
    {
     "data": {
      "text/html": [
       "<div>\n",
       "<style scoped>\n",
       "    .dataframe tbody tr th:only-of-type {\n",
       "        vertical-align: middle;\n",
       "    }\n",
       "\n",
       "    .dataframe tbody tr th {\n",
       "        vertical-align: top;\n",
       "    }\n",
       "\n",
       "    .dataframe thead th {\n",
       "        text-align: right;\n",
       "    }\n",
       "</style>\n",
       "<table border=\"1\" class=\"dataframe\">\n",
       "  <thead>\n",
       "    <tr style=\"text-align: right;\">\n",
       "      <th></th>\n",
       "      <th>campaign_name</th>\n",
       "      <th>start_date</th>\n",
       "      <th>end_date</th>\n",
       "      <th>budget</th>\n",
       "      <th>roi</th>\n",
       "      <th>type</th>\n",
       "      <th>target_audience</th>\n",
       "      <th>channel</th>\n",
       "      <th>conversion_rate</th>\n",
       "      <th>revenue</th>\n",
       "    </tr>\n",
       "  </thead>\n",
       "  <tbody>\n",
       "    <tr>\n",
       "      <th>1003</th>\n",
       "      <td>Upgradable transitional data-warehouse</td>\n",
       "      <td>2023-06-29</td>\n",
       "      <td>2023-12-13</td>\n",
       "      <td>NaN</td>\n",
       "      <td>0.59</td>\n",
       "      <td>social media</td>\n",
       "      <td>B2C</td>\n",
       "      <td>referral</td>\n",
       "      <td>0.67</td>\n",
       "      <td>558302.11</td>\n",
       "    </tr>\n",
       "    <tr>\n",
       "      <th>1005</th>\n",
       "      <td>NEW CAMPAIGN - Missing Budget</td>\n",
       "      <td>2023-10-01</td>\n",
       "      <td>2024-01-15</td>\n",
       "      <td>NaN</td>\n",
       "      <td>0.25</td>\n",
       "      <td>email</td>\n",
       "      <td>B2B</td>\n",
       "      <td>organic</td>\n",
       "      <td>NaN</td>\n",
       "      <td>45000.00</td>\n",
       "    </tr>\n",
       "    <tr>\n",
       "      <th>1024</th>\n",
       "      <td>Null-heavy campaign</td>\n",
       "      <td>2023-01-01</td>\n",
       "      <td>NaN</td>\n",
       "      <td>NaN</td>\n",
       "      <td>NaN</td>\n",
       "      <td>B2B</td>\n",
       "      <td>social media</td>\n",
       "      <td>NaN</td>\n",
       "      <td>NaN</td>\n",
       "      <td>NaN</td>\n",
       "    </tr>\n",
       "    <tr>\n",
       "      <th>1029</th>\n",
       "      <td>Invalid budget</td>\n",
       "      <td>2022-12-01</td>\n",
       "      <td>2023-06-01</td>\n",
       "      <td>NaN</td>\n",
       "      <td>NaN</td>\n",
       "      <td>email</td>\n",
       "      <td>B2C</td>\n",
       "      <td>promotion</td>\n",
       "      <td>0.20</td>\n",
       "      <td>50000.00</td>\n",
       "    </tr>\n",
       "  </tbody>\n",
       "</table>\n",
       "</div>"
      ],
      "text/plain": [
       "                               campaign_name  start_date    end_date  budget  \\\n",
       "1003  Upgradable transitional data-warehouse  2023-06-29  2023-12-13     NaN   \n",
       "1005           NEW CAMPAIGN - Missing Budget  2023-10-01  2024-01-15     NaN   \n",
       "1024                     Null-heavy campaign  2023-01-01         NaN     NaN   \n",
       "1029                          Invalid budget  2022-12-01  2023-06-01     NaN   \n",
       "\n",
       "       roi          type target_audience    channel  conversion_rate  \\\n",
       "1003  0.59  social media             B2C   referral             0.67   \n",
       "1005  0.25         email             B2B    organic              NaN   \n",
       "1024   NaN           B2B    social media        NaN              NaN   \n",
       "1029   NaN         email             B2C  promotion             0.20   \n",
       "\n",
       "        revenue  \n",
       "1003  558302.11  \n",
       "1005   45000.00  \n",
       "1024        NaN  \n",
       "1029   50000.00  "
      ]
     },
     "execution_count": 142,
     "metadata": {},
     "output_type": "execute_result"
    }
   ],
   "source": [
    "df[df['budget'].isnull()]\n",
    "\n"
   ]
  },
  {
   "cell_type": "markdown",
   "metadata": {},
   "source": [
    "# Para budget vamos a reemplazar los nulos por la media de cada tipo de campaña y channel\n"
   ]
  },
  {
   "cell_type": "code",
   "execution_count": null,
   "metadata": {},
   "outputs": [],
   "source": []
  },
  {
   "cell_type": "code",
   "execution_count": 143,
   "metadata": {},
   "outputs": [],
   "source": [
    "df['budget'] = df['budget'].fillna(df.groupby(['channel', 'type'])['budget'].transform('mean'))"
   ]
  },
  {
   "cell_type": "markdown",
   "metadata": {},
   "source": [
    "Vamos a comprobar si para alguno de los valores nulos que ha reemplazado para budget lo ha hecho bien"
   ]
  },
  {
   "cell_type": "code",
   "execution_count": 144,
   "metadata": {},
   "outputs": [
    {
     "data": {
      "text/plain": [
       "campaign_name      Upgradable transitional data-warehouse\n",
       "start_date                                     2023-06-29\n",
       "end_date                                       2023-12-13\n",
       "budget                                           43664.03\n",
       "roi                                                  0.59\n",
       "type                                         social media\n",
       "target_audience                                       B2C\n",
       "channel                                          referral\n",
       "conversion_rate                                      0.67\n",
       "revenue                                         558302.11\n",
       "Name: 1003, dtype: object"
      ]
     },
     "execution_count": 144,
     "metadata": {},
     "output_type": "execute_result"
    }
   ],
   "source": [
    "df.iloc[1003]"
   ]
  },
  {
   "cell_type": "code",
   "execution_count": 145,
   "metadata": {},
   "outputs": [
    {
     "data": {
      "text/plain": [
       "np.float64(43664.030000000006)"
      ]
     },
     "execution_count": 145,
     "metadata": {},
     "output_type": "execute_result"
    }
   ],
   "source": [
    "df[(df['type'] == 'social media') & (df['channel'] == 'referral')]['budget'].mean()"
   ]
  },
  {
   "cell_type": "markdown",
   "metadata": {},
   "source": [
    "Pues si, vemos que para el registro 1003 que antes era nulo, ahora tiene un valor de budget que parece coherente con el promedio de 43664.03 de la misma type y channel"
   ]
  },
  {
   "cell_type": "markdown",
   "metadata": {},
   "source": [
    "# Para \"type\" vamos ver si podemos reemplazar con el valor 'unknown' o utilizar técnicas de imputación basadas en otras variables"
   ]
  },
  {
   "cell_type": "code",
   "execution_count": 146,
   "metadata": {},
   "outputs": [
    {
     "data": {
      "text/html": [
       "<div>\n",
       "<style scoped>\n",
       "    .dataframe tbody tr th:only-of-type {\n",
       "        vertical-align: middle;\n",
       "    }\n",
       "\n",
       "    .dataframe tbody tr th {\n",
       "        vertical-align: top;\n",
       "    }\n",
       "\n",
       "    .dataframe thead th {\n",
       "        text-align: right;\n",
       "    }\n",
       "</style>\n",
       "<table border=\"1\" class=\"dataframe\">\n",
       "  <thead>\n",
       "    <tr style=\"text-align: right;\">\n",
       "      <th></th>\n",
       "      <th>campaign_name</th>\n",
       "      <th>start_date</th>\n",
       "      <th>end_date</th>\n",
       "      <th>budget</th>\n",
       "      <th>roi</th>\n",
       "      <th>type</th>\n",
       "      <th>target_audience</th>\n",
       "      <th>channel</th>\n",
       "      <th>conversion_rate</th>\n",
       "      <th>revenue</th>\n",
       "    </tr>\n",
       "  </thead>\n",
       "  <tbody>\n",
       "    <tr>\n",
       "      <th>1021</th>\n",
       "      <td>Cloud-based scalable solution</td>\n",
       "      <td>NaN</td>\n",
       "      <td>2023-12-31</td>\n",
       "      <td>50000.0</td>\n",
       "      <td>NaN</td>\n",
       "      <td>event</td>\n",
       "      <td>B2C</td>\n",
       "      <td>paid</td>\n",
       "      <td>0.3</td>\n",
       "      <td>120000.0</td>\n",
       "    </tr>\n",
       "    <tr>\n",
       "      <th>1024</th>\n",
       "      <td>Null-heavy campaign</td>\n",
       "      <td>2023-01-01</td>\n",
       "      <td>NaN</td>\n",
       "      <td>NaN</td>\n",
       "      <td>NaN</td>\n",
       "      <td>B2B</td>\n",
       "      <td>social media</td>\n",
       "      <td>NaN</td>\n",
       "      <td>NaN</td>\n",
       "      <td>NaN</td>\n",
       "    </tr>\n",
       "  </tbody>\n",
       "</table>\n",
       "</div>"
      ],
      "text/plain": [
       "                      campaign_name  start_date    end_date   budget  roi  \\\n",
       "1021  Cloud-based scalable solution         NaN  2023-12-31  50000.0  NaN   \n",
       "1024            Null-heavy campaign  2023-01-01         NaN      NaN  NaN   \n",
       "\n",
       "       type target_audience channel  conversion_rate   revenue  \n",
       "1021  event             B2C    paid              0.3  120000.0  \n",
       "1024    B2B    social media     NaN              NaN       NaN  "
      ]
     },
     "execution_count": 146,
     "metadata": {},
     "output_type": "execute_result"
    }
   ],
   "source": [
    "df[(df['type'] == 'event') | (df['type'] == 'B2B')]"
   ]
  },
  {
   "cell_type": "markdown",
   "metadata": {},
   "source": [
    "Para el registro 1024 pdemos ver que se ha cometido un error y las columnas type y target_audience estan invertidas, vamos a corregirlo"
   ]
  },
  {
   "cell_type": "code",
   "execution_count": 161,
   "metadata": {},
   "outputs": [
    {
     "data": {
      "text/plain": [
       "campaign_name      Null-heavy campaign\n",
       "start_date                  2023-01-01\n",
       "end_date                           NaN\n",
       "budget                             NaN\n",
       "roi                                NaN\n",
       "type                      social media\n",
       "target_audience                    B2B\n",
       "channel                            NaN\n",
       "conversion_rate                    NaN\n",
       "revenue                            NaN\n",
       "Name: 1024, dtype: object"
      ]
     },
     "execution_count": 161,
     "metadata": {},
     "output_type": "execute_result"
    }
   ],
   "source": [
    "df.loc[1024,'type']='social media'\n",
    "df.iloc[1024]\n",
    "\n"
   ]
  },
  {
   "cell_type": "markdown",
   "metadata": {},
   "source": [
    "Vamos a ver para conversion rate a ver si puedo utilizar otras variables que estén correlacionadas para imputar los valores nulos"
   ]
  },
  {
   "cell_type": "code",
   "execution_count": 168,
   "metadata": {},
   "outputs": [
    {
     "data": {
      "text/plain": [
       "1008    9999999.0\n",
       "1029     175596.0\n",
       "1028     100000.0\n",
       "53        99957.0\n",
       "330       99891.0\n",
       "          ...    \n",
       "38         1309.0\n",
       "887        1224.0\n",
       "252        1053.0\n",
       "1023     -10000.0\n",
       "1024          NaN\n",
       "Name: budget, Length: 1032, dtype: float64"
      ]
     },
     "execution_count": 168,
     "metadata": {},
     "output_type": "execute_result"
    }
   ],
   "source": [
    "df['budget'].round().sort_values(ascending=False)"
   ]
  },
  {
   "cell_type": "code",
   "execution_count": 173,
   "metadata": {},
   "outputs": [
    {
     "data": {
      "image/png": "[encoded data removed]",
      "text/plain": [
       "<Figure size 1000x600 with 1 Axes>"
      ]
     },
     "metadata": {},
     "output_type": "display_data"
    }
   ],
   "source": [
    "plt.figure(figsize=(10, 6))\n",
    "plt.scatter(df[df['budget'] < 9000000]['budget'], df[df['budget'] < 9000000]['conversion_rate'], color='skyblue')\n",
    "plt.title('Relación entre el presupuesto y la tasa de conversión')\n",
    "plt.xlabel('Presupuesto')\n",
    "plt.ylabel('Tasa de conversión')\n",
    "plt.show()"
   ]
  },
  {
   "cell_type": "markdown",
   "metadata": {},
   "source": [
    "Parece que no ha correlación entre budget y conversion rate, veamos todas las variables juntas con seaborn"
   ]
  },
  {
   "cell_type": "code",
   "execution_count": 177,
   "metadata": {},
   "outputs": [
    {
     "data": {
      "image/png": "[encoded data removed]",
      "text/plain": [
       "<Figure size 1000x800 with 2 Axes>"
      ]
     },
     "metadata": {},
     "output_type": "display_data"
    }
   ],
   "source": [
    "plt.figure(figsize=(10,8))\n",
    "sns.heatmap(df.select_dtypes(include='number').corr(method='pearson'), annot=True, cmap='viridis')\n",
    "plt.title('Correlación entre las variables numéricas')\n",
    "plt.show()"
   ]
  },
  {
   "cell_type": "markdown",
   "metadata": {},
   "source": [
    "### Ahora que veo que los duplicados se ven bien y tiene sentido, me los cargo"
   ]
  },
  {
   "cell_type": "code",
   "execution_count": 62,
   "metadata": {},
   "outputs": [],
   "source": [
    "df.drop_duplicates(inplace=True)"
   ]
  },
  {
   "cell_type": "code",
   "execution_count": 63,
   "metadata": {},
   "outputs": [
    {
     "data": {
      "text/plain": [
       "np.int64(0)"
      ]
     },
     "execution_count": 63,
     "metadata": {},
     "output_type": "execute_result"
    }
   ],
   "source": [
    "# Reviso de nuevo a ver si hay duplicados ahora\n",
    "df.duplicated(keep=False).sum()"
   ]
  },
  {
   "cell_type": "code",
   "execution_count": 64,
   "metadata": {},
   "outputs": [
    {
     "data": {
      "text/plain": [
       "campaign_name      0\n",
       "start_date         1\n",
       "end_date           2\n",
       "budget             3\n",
       "roi                4\n",
       "type               1\n",
       "target_audience    2\n",
       "channel            1\n",
       "conversion_rate    4\n",
       "revenue            3\n",
       "dtype: int64"
      ]
     },
     "execution_count": 64,
     "metadata": {},
     "output_type": "execute_result"
    }
   ],
   "source": [
    "# Vuelo a ver como están los nulos\n",
    "df.isnull().sum()"
   ]
  },
  {
   "cell_type": "code",
   "execution_count": 65,
   "metadata": {},
   "outputs": [
    {
     "data": {
      "text/plain": [
       "campaign_name      0.000000\n",
       "start_date         0.098039\n",
       "end_date           0.196078\n",
       "budget             0.294118\n",
       "roi                0.392157\n",
       "type               0.098039\n",
       "target_audience    0.196078\n",
       "channel            0.098039\n",
       "conversion_rate    0.392157\n",
       "revenue            0.294118\n",
       "dtype: float64"
      ]
     },
     "execution_count": 65,
     "metadata": {},
     "output_type": "execute_result"
    }
   ],
   "source": [
    "# Veo el % de nulos con respecto al total de datos\n",
    "df.isnull().sum() / len(df) * 100 "
   ]
  },
  {
   "cell_type": "code",
   "execution_count": 66,
   "metadata": {},
   "outputs": [
    {
     "data": {
      "text/plain": [
       "campaign_name      0\n",
       "start_date         0\n",
       "end_date           0\n",
       "budget             0\n",
       "roi                0\n",
       "type               0\n",
       "target_audience    0\n",
       "channel            0\n",
       "conversion_rate    0\n",
       "revenue            0\n",
       "dtype: int64"
      ]
     },
     "execution_count": 66,
     "metadata": {},
     "output_type": "execute_result"
    }
   ],
   "source": [
    "# Como veo que es menos de un 1% me cargo los nulos y reviso si se hizo bien\n",
    "df.dropna(inplace=True)\n",
    "df.isnull().sum()"
   ]
  },
  {
   "cell_type": "code",
   "execution_count": 67,
   "metadata": {},
   "outputs": [
    {
     "data": {
      "text/html": [
       "<div>\n",
       "<style scoped>\n",
       "    .dataframe tbody tr th:only-of-type {\n",
       "        vertical-align: middle;\n",
       "    }\n",
       "\n",
       "    .dataframe tbody tr th {\n",
       "        vertical-align: top;\n",
       "    }\n",
       "\n",
       "    .dataframe thead th {\n",
       "        text-align: right;\n",
       "    }\n",
       "</style>\n",
       "<table border=\"1\" class=\"dataframe\">\n",
       "  <thead>\n",
       "    <tr style=\"text-align: right;\">\n",
       "      <th></th>\n",
       "      <th>campaign_name</th>\n",
       "      <th>start_date</th>\n",
       "      <th>end_date</th>\n",
       "      <th>budget</th>\n",
       "      <th>roi</th>\n",
       "      <th>type</th>\n",
       "      <th>target_audience</th>\n",
       "      <th>channel</th>\n",
       "      <th>conversion_rate</th>\n",
       "      <th>revenue</th>\n",
       "    </tr>\n",
       "  </thead>\n",
       "  <tbody>\n",
       "    <tr>\n",
       "      <th>0</th>\n",
       "      <td>Public-key multi-tasking throughput</td>\n",
       "      <td>2023-04-01</td>\n",
       "      <td>2024-02-23</td>\n",
       "      <td>8082.3</td>\n",
       "      <td>0.35</td>\n",
       "      <td>email</td>\n",
       "      <td>B2B</td>\n",
       "      <td>organic</td>\n",
       "      <td>0.40</td>\n",
       "      <td>709593.48</td>\n",
       "    </tr>\n",
       "    <tr>\n",
       "      <th>1</th>\n",
       "      <td>De-engineered analyzing task-force</td>\n",
       "      <td>2023-02-15</td>\n",
       "      <td>2024-04-22</td>\n",
       "      <td>17712.98</td>\n",
       "      <td>0.74</td>\n",
       "      <td>email</td>\n",
       "      <td>B2C</td>\n",
       "      <td>promotion</td>\n",
       "      <td>0.66</td>\n",
       "      <td>516609.10</td>\n",
       "    </tr>\n",
       "    <tr>\n",
       "      <th>2</th>\n",
       "      <td>Balanced solution-oriented Local Area Network</td>\n",
       "      <td>2022-12-20</td>\n",
       "      <td>2023-10-11</td>\n",
       "      <td>84643.1</td>\n",
       "      <td>0.37</td>\n",
       "      <td>podcast</td>\n",
       "      <td>B2B</td>\n",
       "      <td>paid</td>\n",
       "      <td>0.28</td>\n",
       "      <td>458227.42</td>\n",
       "    </tr>\n",
       "    <tr>\n",
       "      <th>3</th>\n",
       "      <td>Distributed real-time methodology</td>\n",
       "      <td>2022-09-26</td>\n",
       "      <td>2023-09-27</td>\n",
       "      <td>14589.75</td>\n",
       "      <td>0.47</td>\n",
       "      <td>webinar</td>\n",
       "      <td>B2B</td>\n",
       "      <td>organic</td>\n",
       "      <td>0.19</td>\n",
       "      <td>89958.73</td>\n",
       "    </tr>\n",
       "    <tr>\n",
       "      <th>4</th>\n",
       "      <td>Front-line executive infrastructure</td>\n",
       "      <td>2023-07-07</td>\n",
       "      <td>2024-05-15</td>\n",
       "      <td>39291.9</td>\n",
       "      <td>0.30</td>\n",
       "      <td>social media</td>\n",
       "      <td>B2B</td>\n",
       "      <td>promotion</td>\n",
       "      <td>0.81</td>\n",
       "      <td>47511.35</td>\n",
       "    </tr>\n",
       "  </tbody>\n",
       "</table>\n",
       "</div>"
      ],
      "text/plain": [
       "                                   campaign_name  start_date    end_date  \\\n",
       "0            Public-key multi-tasking throughput  2023-04-01  2024-02-23   \n",
       "1             De-engineered analyzing task-force  2023-02-15  2024-04-22   \n",
       "2  Balanced solution-oriented Local Area Network  2022-12-20  2023-10-11   \n",
       "3              Distributed real-time methodology  2022-09-26  2023-09-27   \n",
       "4            Front-line executive infrastructure  2023-07-07  2024-05-15   \n",
       "\n",
       "     budget   roi          type target_audience    channel  conversion_rate  \\\n",
       "0    8082.3  0.35         email             B2B    organic             0.40   \n",
       "1  17712.98  0.74         email             B2C  promotion             0.66   \n",
       "2   84643.1  0.37       podcast             B2B       paid             0.28   \n",
       "3  14589.75  0.47       webinar             B2B    organic             0.19   \n",
       "4   39291.9  0.30  social media             B2B  promotion             0.81   \n",
       "\n",
       "     revenue  \n",
       "0  709593.48  \n",
       "1  516609.10  \n",
       "2  458227.42  \n",
       "3   89958.73  \n",
       "4   47511.35  "
      ]
     },
     "execution_count": 67,
     "metadata": {},
     "output_type": "execute_result"
    }
   ],
   "source": [
    "# veo de nuevo los datos\n",
    "df.head()"
   ]
  },
  {
   "cell_type": "code",
   "execution_count": 68,
   "metadata": {},
   "outputs": [
    {
     "data": {
      "text/html": [
       "<div>\n",
       "<style scoped>\n",
       "    .dataframe tbody tr th:only-of-type {\n",
       "        vertical-align: middle;\n",
       "    }\n",
       "\n",
       "    .dataframe tbody tr th {\n",
       "        vertical-align: top;\n",
       "    }\n",
       "\n",
       "    .dataframe thead th {\n",
       "        text-align: right;\n",
       "    }\n",
       "</style>\n",
       "<table border=\"1\" class=\"dataframe\">\n",
       "  <thead>\n",
       "    <tr style=\"text-align: right;\">\n",
       "      <th></th>\n",
       "      <th>roi</th>\n",
       "      <th>conversion_rate</th>\n",
       "      <th>revenue</th>\n",
       "    </tr>\n",
       "  </thead>\n",
       "  <tbody>\n",
       "    <tr>\n",
       "      <th>count</th>\n",
       "      <td>1009.000000</td>\n",
       "      <td>1009.000000</td>\n",
       "      <td>1009.000000</td>\n",
       "    </tr>\n",
       "    <tr>\n",
       "      <th>mean</th>\n",
       "      <td>0.536541</td>\n",
       "      <td>0.544103</td>\n",
       "      <td>514733.450733</td>\n",
       "    </tr>\n",
       "    <tr>\n",
       "      <th>std</th>\n",
       "      <td>0.261786</td>\n",
       "      <td>0.267921</td>\n",
       "      <td>287374.132839</td>\n",
       "    </tr>\n",
       "    <tr>\n",
       "      <th>min</th>\n",
       "      <td>0.000000</td>\n",
       "      <td>0.000000</td>\n",
       "      <td>-15000.000000</td>\n",
       "    </tr>\n",
       "    <tr>\n",
       "      <th>25%</th>\n",
       "      <td>0.310000</td>\n",
       "      <td>0.300000</td>\n",
       "      <td>269170.990000</td>\n",
       "    </tr>\n",
       "    <tr>\n",
       "      <th>50%</th>\n",
       "      <td>0.540000</td>\n",
       "      <td>0.550000</td>\n",
       "      <td>520779.280000</td>\n",
       "    </tr>\n",
       "    <tr>\n",
       "      <th>75%</th>\n",
       "      <td>0.770000</td>\n",
       "      <td>0.770000</td>\n",
       "      <td>770745.630000</td>\n",
       "    </tr>\n",
       "    <tr>\n",
       "      <th>max</th>\n",
       "      <td>0.990000</td>\n",
       "      <td>1.500000</td>\n",
       "      <td>999712.490000</td>\n",
       "    </tr>\n",
       "  </tbody>\n",
       "</table>\n",
       "</div>"
      ],
      "text/plain": [
       "               roi  conversion_rate        revenue\n",
       "count  1009.000000      1009.000000    1009.000000\n",
       "mean      0.536541         0.544103  514733.450733\n",
       "std       0.261786         0.267921  287374.132839\n",
       "min       0.000000         0.000000  -15000.000000\n",
       "25%       0.310000         0.300000  269170.990000\n",
       "50%       0.540000         0.550000  520779.280000\n",
       "75%       0.770000         0.770000  770745.630000\n",
       "max       0.990000         1.500000  999712.490000"
      ]
     },
     "execution_count": 68,
     "metadata": {},
     "output_type": "execute_result"
    }
   ],
   "source": [
    "df.describe()"
   ]
  },
  {
   "cell_type": "code",
   "execution_count": null,
   "metadata": {},
   "outputs": [
    {
     "data": {
      "text/plain": [
       "campaign_name              object\n",
       "start_date         datetime64[ns]\n",
       "end_date                   object\n",
       "budget                     object\n",
       "roi                       float64\n",
       "type                       object\n",
       "target_audience            object\n",
       "channel                    object\n",
       "conversion_rate           float64\n",
       "revenue                   float64\n",
       "dtype: object"
      ]
     },
     "execution_count": 76,
     "metadata": {},
     "output_type": "execute_result"
    }
   ],
   "source": [
    "# I will cast the start  date\n",
    "df['start_date'] = pd.to_datetime(df['start_date'], format='mixed', yearfirst=True, dayfirst=True)\n",
    "df.dtypes"
   ]
  },
  {
   "cell_type": "code",
   "execution_count": 105,
   "metadata": {},
   "outputs": [
    {
     "data": {
      "text/plain": [
       "Timestamp('2024-02-29 00:00:00')"
      ]
     },
     "execution_count": 105,
     "metadata": {},
     "output_type": "execute_result"
    }
   ],
   "source": [
    "#There was an error with the end date for Feb having 2024-02-30, I will try to fix it manuall at postion 1001\n",
    "df.loc[1009,'end_date'] = '2024-02-29'\n",
    "df.loc[1009,'end_date']\n"
   ]
  },
  {
   "cell_type": "code",
   "execution_count": 102,
   "metadata": {},
   "outputs": [
    {
     "data": {
      "text/plain": [
       "campaign_name              object\n",
       "start_date         datetime64[ns]\n",
       "end_date           datetime64[ns]\n",
       "budget                     object\n",
       "roi                       float64\n",
       "type                       object\n",
       "target_audience            object\n",
       "channel                    object\n",
       "conversion_rate           float64\n",
       "revenue                   float64\n",
       "dtype: object"
      ]
     },
     "execution_count": 102,
     "metadata": {},
     "output_type": "execute_result"
    }
   ],
   "source": [
    "# I will cast the end date\n",
    "df['end_date'] = pd.to_datetime(df['end_date'], format='mixed', yearfirst=True)\n",
    "df.dtypes"
   ]
  },
  {
   "cell_type": "markdown",
   "metadata": {},
   "source": [
    "### Budget no deberia de ser un object pero mas bien un integer or float "
   ]
  },
  {
   "cell_type": "code",
   "execution_count": 106,
   "metadata": {},
   "outputs": [
    {
     "data": {
      "text/plain": [
       "0      8082.3\n",
       "1    17712.98\n",
       "2     84643.1\n",
       "3    14589.75\n",
       "4     39291.9\n",
       "Name: budget, dtype: object"
      ]
     },
     "execution_count": 106,
     "metadata": {},
     "output_type": "execute_result"
    }
   ],
   "source": [
    "df['budget'].head(5)"
   ]
  },
  {
   "cell_type": "code",
   "execution_count": 107,
   "metadata": {},
   "outputs": [
    {
     "data": {
      "text/plain": [
       "0     8082.30\n",
       "1    17712.98\n",
       "2    84643.10\n",
       "3    14589.75\n",
       "4    39291.90\n",
       "Name: budget, dtype: float64"
      ]
     },
     "execution_count": 107,
     "metadata": {},
     "output_type": "execute_result"
    }
   ],
   "source": [
    "# Vamos a hacer un casting del budget de str a float\n",
    "df['budget'] = df['budget'].astype(float)\n",
    "df['budget'].head(5)"
   ]
  },
  {
   "cell_type": "code",
   "execution_count": 108,
   "metadata": {},
   "outputs": [
    {
     "data": {
      "text/plain": [
       "campaign_name              object\n",
       "start_date         datetime64[ns]\n",
       "end_date           datetime64[ns]\n",
       "budget                    float64\n",
       "roi                       float64\n",
       "type                       object\n",
       "target_audience            object\n",
       "channel                    object\n",
       "conversion_rate           float64\n",
       "revenue                   float64\n",
       "dtype: object"
      ]
     },
     "execution_count": 108,
     "metadata": {},
     "output_type": "execute_result"
    }
   ],
   "source": [
    "df.dtypes"
   ]
  },
  {
   "cell_type": "markdown",
   "metadata": {},
   "source": [
    "### Vamos a ver si hay algunos datos anomalos"
   ]
  },
  {
   "cell_type": "markdown",
   "metadata": {},
   "source": [
    "### Ya con eso hemos hecho lo siguiente:\n",
    "- Importamos las librerias necesarias y el dataset\n",
    "- Revisamos la descripción, los nulos, los repetidos\n",
    "- Eliminamos los duplicados y los nulos\n",
    "- Hicimos el casting necesario para fechas, y floats\n",
    "\n",
    "Ahora vamos colocar el data set final limpio"
   ]
  },
  {
   "cell_type": "code",
   "execution_count": 109,
   "metadata": {},
   "outputs": [],
   "source": [
    "df.to_csv('C:/Users/david.frigerio_softo/Documents/GitHub/Desafio-de-Marketing/data/marketingcampaigns_clean.csv', index=False)"
   ]
  }
 ],
 "metadata": {
  "kernelspec": {
   "display_name": "Python 3",
   "language": "python",
   "name": "python3"
  },
  "language_info": {
   "codemirror_mode": {
    "name": "ipython",
    "version": 3
   },
   "file_extension": ".py",
   "mimetype": "text/x-python",
   "name": "python",
   "nbconvert_exporter": "python",
   "pygments_lexer": "ipython3",
   "version": "3.13.2"
  }
 },
 "nbformat": 4,
 "nbformat_minor": 2
}
